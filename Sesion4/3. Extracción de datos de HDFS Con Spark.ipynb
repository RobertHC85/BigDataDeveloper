{
 "cells": [
  {
   "cell_type": "code",
   "execution_count": 1,
   "id": "b26cbb28-096d-44de-b615-e88d6c122c8c",
   "metadata": {
    "id": "b26cbb28-096d-44de-b615-e88d6c122c8c",
    "tags": []
   },
   "outputs": [],
   "source": [
    "from pyspark.sql.types import *\n",
    "from pyspark.sql.window import Window\n",
    "\n",
    "import pyspark.sql.functions as F\n",
    "from pyspark.sql.functions import udf, col"
   ]
  },
  {
   "cell_type": "code",
   "execution_count": 2,
   "id": "ebc86663-5c33-407f-8608-12bc730f159a",
   "metadata": {
    "id": "ebc86663-5c33-407f-8608-12bc730f159a",
    "tags": []
   },
   "outputs": [
    {
     "name": "stderr",
     "output_type": "stream",
     "text": [
      "25/05/14 02:24:48 WARN Utils: Your hostname, codespaces-367222 resolves to a loopback address: 127.0.0.1; using 10.0.5.131 instead (on interface eth0)\n",
      "25/05/14 02:24:48 WARN Utils: Set SPARK_LOCAL_IP if you need to bind to another address\n",
      "Setting default log level to \"WARN\".\n",
      "To adjust logging level use sc.setLogLevel(newLevel). For SparkR, use setLogLevel(newLevel).\n",
      "25/05/14 02:24:48 WARN NativeCodeLoader: Unable to load native-hadoop library for your platform... using builtin-java classes where applicable\n",
      "25/05/14 02:24:49 WARN Utils: Service 'SparkUI' could not bind on port 4040. Attempting port 4041.\n",
      "25/05/14 02:24:49 WARN Utils: Service 'SparkUI' could not bind on port 4041. Attempting port 4042.\n"
     ]
    }
   ],
   "source": [
    "from pyspark.sql import SparkSession\n",
    "\n",
    "spark = SparkSession.builder.getOrCreate()"
   ]
  },
  {
   "cell_type": "code",
   "execution_count": 3,
   "id": "59855ff2-6b47-4603-806f-21344eac503d",
   "metadata": {},
   "outputs": [
    {
     "data": {
      "text/html": [
       "\n",
       "            <div>\n",
       "                <p><b>SparkSession - in-memory</b></p>\n",
       "                \n",
       "        <div>\n",
       "            <p><b>SparkContext</b></p>\n",
       "\n",
       "            <p><a href=\"http://d405db34-e71f-4955-b53a-45f92dfd20a0.internal.cloudapp.net:4042\">Spark UI</a></p>\n",
       "\n",
       "            <dl>\n",
       "              <dt>Version</dt>\n",
       "                <dd><code>v3.5.5</code></dd>\n",
       "              <dt>Master</dt>\n",
       "                <dd><code>local[*]</code></dd>\n",
       "              <dt>AppName</dt>\n",
       "                <dd><code>pyspark-shell</code></dd>\n",
       "            </dl>\n",
       "        </div>\n",
       "        \n",
       "            </div>\n",
       "        "
      ],
      "text/plain": [
       "<pyspark.sql.session.SparkSession at 0x7d8cacf58440>"
      ]
     },
     "execution_count": 3,
     "metadata": {},
     "output_type": "execute_result"
    }
   ],
   "source": [
    "spark"
   ]
  },
  {
   "cell_type": "code",
   "execution_count": 13,
   "id": "9814d187-ba63-4c1c-8c58-5c543dc848ce",
   "metadata": {
    "id": "9814d187-ba63-4c1c-8c58-5c543dc848ce",
    "tags": []
   },
   "outputs": [
    {
     "name": "stdout",
     "output_type": "stream",
     "text": [
      "+--------------------+\n",
      "|               value|\n",
      "+--------------------+\n",
      "|45,,1009,http://i...|\n",
      "|46,,1010,http://i...|\n",
      "|46,,1011,http://i...|\n",
      "|46,,1012,http://i...|\n",
      "|46,,1013,http://i...|\n",
      "|46,,1014,http://i...|\n",
      "|46,,1015,http://i...|\n",
      "|46,,1016,http://i...|\n",
      "|46,,1017,http://i...|\n",
      "|46,,1018,http://i...|\n",
      "|46,,1019,http://i...|\n",
      "|46,,1020,http://i...|\n",
      "|46,,1021,http://i...|\n",
      "|46,,1022,http://i...|\n",
      "|46,,1023,http://i...|\n",
      "|46,,1024,http://i...|\n",
      "|46,,1025,http://i...|\n",
      "|46,,1026,http://i...|\n",
      "|46,,1027,http://i...|\n",
      "|46,,1028,http://i...|\n",
      "+--------------------+\n",
      "only showing top 20 rows\n",
      "\n"
     ]
    }
   ],
   "source": [
    "spark.read.text(\"hdfs://172.27.1.5:8020/user/datapath/datasets/products\").show()"
   ]
  },
  {
   "cell_type": "code",
   "execution_count": 14,
   "id": "b6638358-c289-4c4a-bc9a-89d5d70c2b5f",
   "metadata": {
    "id": "b6638358-c289-4c4a-bc9a-89d5d70c2b5f"
   },
   "outputs": [],
   "source": [
    "#CUSTOMERS_DATA =   'hdfs://172.27.1.5:8020/user/datapath/datasets/customers'\n",
    "#DEPARTMENTS_DATA = 'hdfs://172.27.1.5:8020/user/datapath/datasets/departments'\n",
    "#CATEGORIES_DATA =  'hdfs://172.27.1.5:8020/user/datapath/datasets/categories'\n",
    "PRODUCTS_DATA =    'hdfs://172.27.1.5:8020/user/datapath/datasets/products'\n",
    "#ORDERS_DATA =      'hdfs://172.27.1.5:8020/user/datapath/datasets/orders'\n",
    "#ORDER_ITEMS_DATA = 'hdfs://172.27.1.5:8020/user/datapath/datasets/order_items'"
   ]
  },
  {
   "cell_type": "code",
   "execution_count": 8,
   "id": "656b70dc-790e-4308-81d0-334df810c022",
   "metadata": {
    "id": "656b70dc-790e-4308-81d0-334df810c022",
    "tags": []
   },
   "outputs": [],
   "source": [
    "# define the schema, corresponding to a line in the csv data file for Customer\n",
    "customers_schema = StructType([\n",
    "    StructField('customer_id',       IntegerType(), nullable=True),\n",
    "    StructField('customer_fname',    StringType(), nullable=True),\n",
    "    StructField('customer_lname',    StringType(), nullable=True),\n",
    "    StructField('customer_email',    StringType(), nullable=True),\n",
    "    StructField('customer_password', StringType(), nullable=True),\n",
    "    StructField('customer_street',   StringType(), nullable=True),\n",
    "    StructField('customer_city',     StringType(), nullable=True),\n",
    "    StructField('customer_state',    StringType(), nullable=True),\n",
    "    StructField('customer_zipcode',  StringType(), nullable=True)])"
   ]
  },
  {
   "cell_type": "code",
   "execution_count": null,
   "id": "997703cd-7967-46d8-afe4-ec3305c694c0",
   "metadata": {
    "id": "997703cd-7967-46d8-afe4-ec3305c694c0",
    "tags": []
   },
   "outputs": [],
   "source": [
    "departments_schema = StructType([\n",
    "    StructField('department_id',   IntegerType(), nullable=True),\n",
    "    StructField('department_name', StringType(), nullable=True)])"
   ]
  },
  {
   "cell_type": "code",
   "execution_count": null,
   "id": "0abe992f-683b-4291-8f3f-d8ed420add7f",
   "metadata": {
    "id": "0abe992f-683b-4291-8f3f-d8ed420add7f",
    "tags": []
   },
   "outputs": [],
   "source": [
    "categories_schema = StructType([\n",
    "    StructField('category_id',            IntegerType(), nullable=True),\n",
    "    StructField('category_department_id', IntegerType(), nullable=True),\n",
    "    StructField('category_name',          StringType(), nullable=True)])"
   ]
  },
  {
   "cell_type": "code",
   "execution_count": 15,
   "id": "34303581-f94a-4bdd-b4c9-26b9aef0c6de",
   "metadata": {
    "id": "34303581-f94a-4bdd-b4c9-26b9aef0c6de",
    "tags": []
   },
   "outputs": [],
   "source": [
    "products_schema = StructType([\n",
    "    StructField('product_id',          IntegerType(), nullable=True),\n",
    "    StructField('product_category_id', IntegerType(), nullable=True),\n",
    "    StructField('product_name',        StringType(), nullable=True),\n",
    "    StructField('product_description', StringType(), nullable=True),\n",
    "    StructField('product_price',       FloatType(), nullable=True),\n",
    "    StructField('product_image',       StringType(), nullable=True)])"
   ]
  },
  {
   "cell_type": "code",
   "execution_count": null,
   "id": "1256ed06-5dbc-4cd8-a8c5-4b878fb115b9",
   "metadata": {
    "id": "1256ed06-5dbc-4cd8-a8c5-4b878fb115b9",
    "tags": []
   },
   "outputs": [],
   "source": [
    "orders_schema = StructType([\n",
    "    StructField('order_id',          IntegerType(), nullable=True),\n",
    "    StructField('order_date',        StringType(), nullable=True),\n",
    "    StructField('order_customer_id', IntegerType(), nullable=True),\n",
    "    StructField('order_status',      StringType(), nullable=True)])"
   ]
  },
  {
   "cell_type": "code",
   "execution_count": null,
   "id": "ea932c22-9046-450a-9cc6-144d0d57bbe4",
   "metadata": {
    "id": "ea932c22-9046-450a-9cc6-144d0d57bbe4",
    "tags": []
   },
   "outputs": [],
   "source": [
    "order_items_schema = StructType([\n",
    "    StructField('order_item_id',            IntegerType(), nullable=True),\n",
    "    StructField('order_item_order_id',      IntegerType(), nullable=True),\n",
    "    StructField('order_item_product_id',    IntegerType(), nullable=True),\n",
    "    StructField('order_item_quantity',      IntegerType(), nullable=True),\n",
    "    StructField('order_item_subtotal',      FloatType(), nullable=True),\n",
    "    StructField('order_item_product_price', FloatType(), nullable=True)])"
   ]
  },
  {
   "cell_type": "markdown",
   "id": "3f0025e9-fb42-4f4e-89a7-ae7488e0c5db",
   "metadata": {
    "id": "3f0025e9-fb42-4f4e-89a7-ae7488e0c5db"
   },
   "source": [
    "### Cargamos los datos"
   ]
  },
  {
   "cell_type": "code",
   "execution_count": 16,
   "id": "7e9195dd-abb2-4d88-b81c-e82884f0a365",
   "metadata": {
    "id": "7e9195dd-abb2-4d88-b81c-e82884f0a365",
    "tags": []
   },
   "outputs": [
    {
     "data": {
      "text/plain": [
       "DataFrame[product_id: int, product_category_id: int, product_name: string, product_description: string, product_price: float, product_image: string]"
      ]
     },
     "execution_count": 16,
     "metadata": {},
     "output_type": "execute_result"
    }
   ],
   "source": [
    "\n",
    "#customers_df = spark.read.option(\"header\", \"true\").csv(path=CUSTOMERS_DATA, schema=customers_schema)\n",
    "#customers_df.cache()\n",
    "\n",
    "#departments_df = spark.read.option(\"header\", \"true\").csv(path=DEPARTMENTS_DATA, schema=departments_schema)\n",
    "#departments_df.cache()\n",
    "\n",
    "#categories_df = spark.read.option(\"header\", \"true\").csv(path=CATEGORIES_DATA, schema=categories_schema)\n",
    "#categories_df.cache()\n",
    "\n",
    "products_df = spark.read.option(\"header\", \"true\").csv(path=PRODUCTS_DATA, schema=products_schema)\n",
    "products_df.cache()\n",
    "\n",
    "#orders_df = spark.read.option(\"header\", \"true\").csv(path=ORDERS_DATA, schema=orders_schema)\n",
    "#orders_df.cache()\n",
    "\n",
    "#order_items_df = spark.read.option(\"header\", \"true\").csv(path=ORDER_ITEMS_DATA, schema=order_items_schema)\n",
    "#order_items_df.cache()"
   ]
  },
  {
   "cell_type": "code",
   "execution_count": 17,
   "id": "d1342588-7184-40b5-9a2f-0095a14a1631",
   "metadata": {
    "id": "d1342588-7184-40b5-9a2f-0095a14a1631",
    "tags": []
   },
   "outputs": [
    {
     "name": "stderr",
     "output_type": "stream",
     "text": [
      "25/05/14 02:43:06 WARN CSVHeaderChecker: CSV header does not conform to the schema.\n",
      " Header: 31, , 673, http://images.acmesports.sports/PING+G30+Fairway+Wood, PING G30 Fairway Wood, 249.0\n",
      " Schema: product_id, product_category_id, product_name, product_description, product_price, product_image\n",
      "Expected: product_id but found: 31\n",
      "CSV file: hdfs://172.27.1.5:8020/user/datapath/datasets/products/part-m-00002\n",
      "25/05/14 02:43:06 WARN CSVHeaderChecker: CSV header does not conform to the schema.\n",
      " Header: 45, , 1009, http://images.acmesports.sports/Diamond+Fear+No+Evil+Compound+Bow+Package, Diamond Fear No Evil Compound Bow Package, 599.99\n",
      " Schema: product_id, product_category_id, product_name, product_description, product_price, product_image\n",
      "Expected: product_id but found: 45\n",
      "CSV file: hdfs://172.27.1.5:8020/user/datapath/datasets/products/part-m-00003\n",
      "25/05/14 02:43:06 WARN CSVHeaderChecker: CSV header does not conform to the schema.\n",
      " Header: 16, , 337, http://images.acmesports.sports/Fitness+Gear+300+lb+Olympic+Weight+Set, Fitness Gear 300 lb Olympic Weight Set, 209.99\n",
      " Schema: product_id, product_category_id, product_name, product_description, product_price, product_image\n",
      "Expected: product_id but found: 16\n",
      "CSV file: hdfs://172.27.1.5:8020/user/datapath/datasets/products/part-m-00001\n",
      "25/05/14 02:43:06 WARN CSVHeaderChecker: CSV header does not conform to the schema.\n",
      " Header: 2, , 1, http://images.acmesports.sports/Quest+Q64+10+FT.+x+10+FT.+Slant+Leg+Instant+Up+Canopy, Quest Q64 10 FT. x 10 FT. Slant Leg Instant U, 59.98\n",
      " Schema: product_id, product_category_id, product_name, product_description, product_price, product_image\n",
      "Expected: product_id but found: 2\n",
      "CSV file: hdfs://172.27.1.5:8020/user/datapath/datasets/products/part-m-00000\n"
     ]
    },
    {
     "name": "stdout",
     "output_type": "stream",
     "text": [
      "+----------+-------------------+------------+--------------------+-------------+-------------+\n",
      "|product_id|product_category_id|product_name| product_description|product_price|product_image|\n",
      "+----------+-------------------+------------+--------------------+-------------+-------------+\n",
      "|        46|               NULL|        1010|http://images.acm...|         NULL|        19.98|\n",
      "|        46|               NULL|        1011|http://images.acm...|         NULL|       499.99|\n",
      "|        46|               NULL|        1012|http://images.acm...|         NULL|       299.99|\n",
      "|        46|               NULL|        1013|http://images.acm...|         NULL|       349.99|\n",
      "|        46|               NULL|        1014|http://images.acm...|         NULL|        49.98|\n",
      "|        46|               NULL|        1015|http://images.acm...|         NULL|       399.99|\n",
      "|        46|               NULL|        1016|http://images.acm...|         NULL|       549.99|\n",
      "|        46|               NULL|        1017|http://images.acm...|         NULL|        19.98|\n",
      "|        46|               NULL|        1018|http://images.acm...|         NULL|       399.99|\n",
      "|        46|               NULL|        1019|http://images.acm...|         NULL|        44.98|\n",
      "|        46|               NULL|        1020|http://images.acm...|         NULL|       549.99|\n",
      "|        46|               NULL|        1021|http://images.acm...|         NULL|       499.99|\n",
      "|        46|               NULL|        1022|http://images.acm...|         NULL|        49.98|\n",
      "|        46|               NULL|        1023|http://images.acm...|         NULL|        29.99|\n",
      "|        46|               NULL|        1024|http://images.acm...|         NULL|        21.99|\n",
      "|        46|               NULL|        1025|http://images.acm...|         NULL|       369.99|\n",
      "|        46|               NULL|        1026|http://images.acm...|         NULL|       119.99|\n",
      "|        46|               NULL|        1027|http://images.acm...|         NULL|        34.99|\n",
      "|        46|               NULL|        1028|http://images.acm...|         NULL|       399.99|\n",
      "|        46|               NULL|        1029|http://images.acm...|         NULL|        39.99|\n",
      "+----------+-------------------+------------+--------------------+-------------+-------------+\n",
      "only showing top 20 rows\n",
      "\n"
     ]
    }
   ],
   "source": [
    "#customers_df.show()\n",
    "products_df.show()"
   ]
  },
  {
   "cell_type": "markdown",
   "id": "910aed12-2e7d-4914-b4dc-6ee2f7154f6f",
   "metadata": {
    "id": "910aed12-2e7d-4914-b4dc-6ee2f7154f6f"
   },
   "source": [
    "### Creamos vistas temporales para trabajar con spark.sql"
   ]
  },
  {
   "cell_type": "code",
   "execution_count": 12,
   "id": "0e628052-2e9a-4baa-b9e0-c78442b516df",
   "metadata": {
    "id": "0e628052-2e9a-4baa-b9e0-c78442b516df",
    "tags": []
   },
   "outputs": [
    {
     "name": "stdout",
     "output_type": "stream",
     "text": [
      "+-----------+--------------+--------------+--------------+-----------------+---------------+-------------+--------------------+----------------+\n",
      "|customer_id|customer_fname|customer_lname|customer_email|customer_password|customer_street|customer_city|      customer_state|customer_zipcode|\n",
      "+-----------+--------------+--------------+--------------+-----------------+---------------+-------------+--------------------+----------------+\n",
      "|       NULL|     XXXXXXXXX|          Mary|          9328|            Perez|      XXXXXXXXX|           CA|  376 Golden Orchard|           92553|\n",
      "|       NULL|     XXXXXXXXX|        Eugene|          9329|           Powell|      XXXXXXXXX|           LA|   2161 Burning Maze|           70003|\n",
      "|       NULL|     XXXXXXXXX|          Mary|          9330|           Conley|      XXXXXXXXX|           PR| 3046 Broad Sky Dale|           00725|\n",
      "|       NULL|     XXXXXXXXX|         Donna|          9331|            Smith|      XXXXXXXXX|           NJ|941 Thunder Branc...|           08021|\n",
      "|       NULL|     XXXXXXXXX|          Mary|          9332|           Jordan|      XXXXXXXXX|           PR|   1551 Quaking Bend|           00725|\n",
      "+-----------+--------------+--------------+--------------+-----------------+---------------+-------------+--------------------+----------------+\n",
      "only showing top 5 rows\n",
      "\n"
     ]
    }
   ],
   "source": [
    "customers_df.createOrReplaceTempView(\"customers\")\n",
    "customers_df.show(5)"
   ]
  },
  {
   "cell_type": "code",
   "execution_count": null,
   "id": "0a033bbf-d99b-4256-bd14-4feff182975d",
   "metadata": {
    "id": "0a033bbf-d99b-4256-bd14-4feff182975d",
    "tags": []
   },
   "outputs": [],
   "source": [
    "departments_df.createOrReplaceTempView(\"departments\")\n",
    "departments_df.show(5)"
   ]
  },
  {
   "cell_type": "code",
   "execution_count": null,
   "id": "2143259b-5dfe-44e0-accd-9a24dd410335",
   "metadata": {
    "id": "2143259b-5dfe-44e0-accd-9a24dd410335",
    "tags": []
   },
   "outputs": [],
   "source": [
    "orders_df.createOrReplaceTempView(\"orders\")\n",
    "orders_df.show(5)"
   ]
  },
  {
   "cell_type": "code",
   "execution_count": null,
   "id": "48ed0b88-5c30-4966-b974-e81db295774b",
   "metadata": {
    "id": "48ed0b88-5c30-4966-b974-e81db295774b",
    "tags": []
   },
   "outputs": [],
   "source": [
    "order_items_df.createOrReplaceTempView(\"order_items\")\n",
    "order_items_df.show(5)"
   ]
  },
  {
   "cell_type": "code",
   "execution_count": null,
   "id": "c3b62114-252d-4755-8a30-650187a442c9",
   "metadata": {
    "id": "c3b62114-252d-4755-8a30-650187a442c9",
    "tags": []
   },
   "outputs": [],
   "source": [
    "products_df.createOrReplaceTempView(\"products\")\n",
    "products_df.show(5)"
   ]
  },
  {
   "cell_type": "code",
   "execution_count": null,
   "id": "3dfd1eae-d128-4e50-a6ad-9e7c5cac2cae",
   "metadata": {
    "id": "3dfd1eae-d128-4e50-a6ad-9e7c5cac2cae",
    "tags": []
   },
   "outputs": [],
   "source": [
    "categories_df.createOrReplaceTempView(\"categories\")\n",
    "categories_df.show(5)"
   ]
  },
  {
   "cell_type": "code",
   "execution_count": null,
   "id": "f4a6c157-8b81-4eba-8b9a-d335cfab0ef3",
   "metadata": {
    "id": "f4a6c157-8b81-4eba-8b9a-d335cfab0ef3"
   },
   "outputs": [],
   "source": []
  }
 ],
 "metadata": {
  "colab": {
   "provenance": []
  },
  "kernelspec": {
   "display_name": "Python 3 (ipykernel)",
   "language": "python",
   "name": "python3"
  },
  "language_info": {
   "codemirror_mode": {
    "name": "ipython",
    "version": 3
   },
   "file_extension": ".py",
   "mimetype": "text/x-python",
   "name": "python",
   "nbconvert_exporter": "python",
   "pygments_lexer": "ipython3",
   "version": "3.12.1"
  }
 },
 "nbformat": 4,
 "nbformat_minor": 5
}
